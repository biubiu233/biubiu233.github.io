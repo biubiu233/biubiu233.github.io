{
 "cells": [
  {
   "cell_type": "code",
   "execution_count": 4,
   "metadata": {
    "collapsed": true
   },
   "outputs": [],
   "source": [
    "import sys\n",
    "sys.path.append('C:/Program Files (x86)/ArcGIS/Desktop10.3/bin')\n",
    "sys.path.append('C:/Program Files (x86)/ArcGIS/Desktop10.3/arcpy')\n",
    "sys.path.append('C:/Program Files (x86)/ArcGIS/Desktop10.3/ArcToolbox/Scripts')"
   ]
  },
  {
   "cell_type": "code",
   "execution_count": 5,
   "metadata": {
    "collapsed": true
   },
   "outputs": [],
   "source": [
    "from subprocess import call\n",
    "import os\n",
    "os.environ[\"GDAL_DATA\"] = \"C:/OSGeo4W/share/gdal\"\n",
    "os.environ[\"GDAL_DRIVER_PATH\"] = \"C:/OSGeo4W/bin/gdalplugins\"\n",
    "os.environ[\"PROJ_LIB\"] = \"C:/OSGeo4W/share/proj\"\n",
    "os.environ[\"PATH\"] = \"C:/OSGeo4W/bin;\" + os.environ[\"PATH\"] + \";c:/OSGeo4W/apps/msys/bins;C:/OSGeo4W/apps/Python27/Sripts\""
   ]
  },
  {
   "cell_type": "markdown",
   "metadata": {},
   "source": [
    "This section is used to create a new list to store all county name, so I can use the list to search county in the shapefile. Then I create two new list pop[] and poplist[]. pop[] is a temporary list, which can store the population number in each county and the sum of the population of each county will be stored in list poplist[]. "
   ]
  },
  {
   "cell_type": "code",
   "execution_count": 6,
   "metadata": {
    "collapsed": false
   },
   "outputs": [],
   "source": [
    "import arcpy\n",
    "from arcpy import env\n",
    "env.workspace = \"U:/Python class/ArcPy Lab/saep_bg10\"\n",
    "saep = \"U:/Python class/ArcPy Lab/saep_bg10/saep_bg10.shp\"\n",
    "\n",
    "# create new list to save county name\n",
    "county = []\n",
    "mycursor = arcpy.da.SearchCursor(\"WashingtonFIPS.dbf\",[\"CountyName\"])\n",
    "for row in mycursor:\n",
    "    county.append(row[0])\n",
    "\n",
    "\n",
    "# create new list to save population by county\n",
    "pop = [] \n",
    "poplist = []\n",
    "# count population by county\n",
    "for i in range(0,len(county)):\n",
    "    mycursor2 = arcpy.da.SearchCursor(saep , [\"CountyName\",\"POP2013\"])\n",
    "    for row in mycursor2:\n",
    "        if row[0] == county[i]:\n",
    "            pop.append(row[1])\n",
    "    #print( county[i] + \"county population is \" + str(sum(pop)))\n",
    "    poplist.append(sum(pop))\n",
    "    pop = []\n"
   ]
  },
  {
   "cell_type": "markdown",
   "metadata": {},
   "source": [
    "After I stored the population of each county in poplist[], I created a dictionary countypop{} to connect county name and its population in 2013. When I search the county name, countypop can show me the relative population number of that county. Then I sort countypop[] by using sorted function, and use a for loop to print the top 10 populations of counties."
   ]
  },
  {
   "cell_type": "code",
   "execution_count": 7,
   "metadata": {
    "collapsed": false
   },
   "outputs": [
    {
     "name": "stdout",
     "output_type": "stream",
     "text": [
      "The 10 largest total populations in 2013 of counties in Washington are:\n",
      "(u'King', 1981900.000000001)\n",
      "(u'Pierce', 814499.9999999999)\n",
      "(u'Snohomish', 730499.9999999999)\n",
      "(u'Spokane', 479999.9999999997)\n",
      "(u'Clark', 435500.00000000047)\n",
      "(u'Thurston', 260100.00000000006)\n",
      "(u'Kitsap', 254000.00000000003)\n",
      "(u'Yakima', 247250.0)\n",
      "(u'Whatcom', 205800.00000000003)\n",
      "(u'Benton', 183400.0)\n"
     ]
    }
   ],
   "source": [
    "countypop = {} # create a dictionary: connect county and population\n",
    "for i in range(0,len(county)):\n",
    "    countypop[county[i]] = poplist[i]\n",
    "\n",
    "# sort population by county    \n",
    "import operator\n",
    "sorted_pop = sorted(countypop.items(), key = operator.itemgetter(1))\n",
    "\n",
    "print \"The 10 largest total populations in 2013 of counties in Washington are:\"\n",
    "\n",
    "# print top 1o county\n",
    "for i in range(1, 11):\n",
    "    print  sorted_pop[-i]\n",
    "    i = i + 1"
   ]
  },
  {
   "cell_type": "markdown",
   "metadata": {},
   "source": [
    "This section is used to create new shapefiles for counties and convert the shapefiles to geojson files. I first defined several variables to store the file name and file path, and used them in the FeatureClassToFeatureClass function and call. I was going to create an another loop to convert the shapefiles to geojson files and after I talked to a classmate, I realized it was unnecessary. I can simpliy add the call after the FeatureClassToFeatureClass function. "
   ]
  },
  {
   "cell_type": "code",
   "execution_count": 8,
   "metadata": {
    "collapsed": false
   },
   "outputs": [],
   "source": [
    "# create a new shapefile for each county\n",
    "# define featureclasstofeatureclass\n",
    "# convert shapefiles to geojson files\n",
    "import os.path\n",
    "\n",
    "for i in range(0, len(county)):\n",
    "    outFeatureClass = str(county[i])\n",
    "    inFeature = \"U:/Python class/ArcPy Lab/saep_bg10/saep_bg10.shp\"\n",
    "    outLocation = \"U:/Python class/ArcPy Lab/shapefile/\"\n",
    "    outLocation2 = \"U:/Python class/ArcPy Lab/geojson/\"\n",
    "    countystr = str(county[i])\n",
    "    #print outFeatureClass, countystr\n",
    "    expression = '\"CountyName\" = ' + \"'%s'\" %countystr\n",
    "  \n",
    "    arcpy.FeatureClassToFeatureClass_conversion(inFeature, outLocation, outFeatureClass, expression)\n",
    "    call(['C:\\\\OSGeo4W\\\\bin\\\\ogr2ogr',\n",
    "      '-f','GeoJSON','-t_srs','WGS84',\n",
    "      '-s_srs','EPSG:2927',\n",
    "      outLocation2 + outFeatureClass +\".geojson\",\n",
    "      outLocation + outFeatureClass + \".shp\"])\n",
    "    \n",
    " "
   ]
  },
  {
   "cell_type": "markdown",
   "metadata": {
    "collapsed": false
   },
   "source": [
    "I spent at least 10 hours on this assignment. At first, I felt it was hard and frustrating, but when it's done, I just realize it is not that hard and feel so happy. I learned a lot of new stuff from the coding process and after talking with a classmate I feel it's amazing to see people think in different ways about solving problems."
   ]
  },
  {
   "cell_type": "code",
   "execution_count": null,
   "metadata": {
    "collapsed": false
   },
   "outputs": [],
   "source": []
  }
 ],
 "metadata": {
  "kernelspec": {
   "display_name": "Python 2",
   "language": "python",
   "name": "python2"
  },
  "language_info": {
   "codemirror_mode": {
    "name": "ipython",
    "version": 2
   },
   "file_extension": ".py",
   "mimetype": "text/x-python",
   "name": "python",
   "nbconvert_exporter": "python",
   "pygments_lexer": "ipython2",
   "version": "2.7.10"
  }
 },
 "nbformat": 4,
 "nbformat_minor": 0
}
