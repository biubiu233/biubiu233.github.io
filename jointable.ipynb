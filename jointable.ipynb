{
 "cells": [
  {
   "cell_type": "code",
   "execution_count": 1,
   "metadata": {
    "collapsed": true
   },
   "outputs": [],
   "source": [
    "import sys\n",
    "sys.path.append('C:/Program Files (x86)/ArcGIS/Desktop10.3/bin')\n",
    "sys.path.append('C:/Program Files (x86)/ArcGIS/Desktop10.3/arcpy')\n",
    "sys.path.append('C:/Program Files (x86)/ArcGIS/Desktop10.3/ArcToolbox/Scripts')"
   ]
  },
  {
   "cell_type": "code",
   "execution_count": null,
   "metadata": {
    "collapsed": true
   },
   "outputs": [],
   "source": [
    "import arcpy\n",
    "from arcpy import env\n",
    "\n",
    "env.workspace = \"U:/Python class/ArcPy Lab\"\n",
    "saep = \"U:/Python class/ArcPy Lab/saep_bg10/saep_bg10.shp\"\n",
    "fip = \"U:/Python class/ArcPy Lab/WashingtonFIPS.dbf\"\n",
    "arcpy.JoinField_management(saep,\"COUNTYFP10\",\"WashingtonFIPS\",\"FIPSCounty\")\n"
   ]
  },
  {
   "cell_type": "code",
   "execution_count": null,
   "metadata": {
    "collapsed": true
   },
   "outputs": [],
   "source": []
  }
 ],
 "metadata": {
  "kernelspec": {
   "display_name": "Python 2",
   "language": "python",
   "name": "python2"
  },
  "language_info": {
   "codemirror_mode": {
    "name": "ipython",
    "version": 2
   },
   "file_extension": ".py",
   "mimetype": "text/x-python",
   "name": "python",
   "nbconvert_exporter": "python",
   "pygments_lexer": "ipython2",
   "version": "2.7.10"
  }
 },
 "nbformat": 4,
 "nbformat_minor": 0
}
